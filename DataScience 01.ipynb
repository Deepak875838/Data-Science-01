{
 "cells": [
  {
   "cell_type": "code",
   "execution_count": 1,
   "id": "f6aed074-16c3-4d15-8db9-60624a6abb81",
   "metadata": {},
   "outputs": [
    {
     "name": "stdout",
     "output_type": "stream",
     "text": [
      "Deepak Nath\n"
     ]
    }
   ],
   "source": [
    "print(\"Deepak Nath\")"
   ]
  },
  {
   "cell_type": "code",
   "execution_count": 7,
   "id": "510c9eb6-f0de-4627-8989-92014c732fb5",
   "metadata": {},
   "outputs": [
    {
     "name": "stdout",
     "output_type": "stream",
     "text": [
      "25\n"
     ]
    }
   ],
   "source": [
    "A = 12\n",
    "B = 13\n",
    "\n",
    "print (A+B)"
   ]
  },
  {
   "cell_type": "code",
   "execution_count": null,
   "id": "d01ef175-f615-4ec8-accf-9fe45e45f60e",
   "metadata": {},
   "outputs": [],
   "source": []
  }
 ],
 "metadata": {
  "kernelspec": {
   "display_name": "Python 3 (ipykernel)",
   "language": "python",
   "name": "python3"
  },
  "language_info": {
   "codemirror_mode": {
    "name": "ipython",
    "version": 3
   },
   "file_extension": ".py",
   "mimetype": "text/x-python",
   "name": "python",
   "nbconvert_exporter": "python",
   "pygments_lexer": "ipython3",
   "version": "3.12.7"
  }
 },
 "nbformat": 4,
 "nbformat_minor": 5
}
